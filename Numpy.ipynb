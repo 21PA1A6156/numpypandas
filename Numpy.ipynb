{
  "nbformat": 4,
  "nbformat_minor": 0,
  "metadata": {
    "colab": {
      "provenance": [],
      "authorship_tag": "ABX9TyO8sVroJlvuOYDFurFGdq9g",
      "include_colab_link": true
    },
    "kernelspec": {
      "name": "python3",
      "display_name": "Python 3"
    },
    "language_info": {
      "name": "python"
    }
  },
  "cells": [
    {
      "cell_type": "markdown",
      "metadata": {
        "id": "view-in-github",
        "colab_type": "text"
      },
      "source": [
        "<a href=\"https://colab.research.google.com/github/21PA1A6156/numpypandas/blob/main/Numpy.ipynb\" target=\"_parent\"><img src=\"https://colab.research.google.com/assets/colab-badge.svg\" alt=\"Open In Colab\"/></a>"
      ]
    },
    {
      "cell_type": "code",
      "execution_count": 1,
      "metadata": {
        "colab": {
          "base_uri": "https://localhost:8080/"
        },
        "id": "Jv8TjRX7bSlj",
        "outputId": "630fbfde-4772-406f-c5d3-8fab58df3108"
      },
      "outputs": [
        {
          "output_type": "stream",
          "name": "stdout",
          "text": [
            "[ 1  2  3  4 45  2]\n"
          ]
        }
      ],
      "source": [
        "import numpy as np\n",
        "x= np.array([1,2,3,4,45,2])\n",
        "print(x)"
      ]
    },
    {
      "cell_type": "code",
      "source": [
        "y = np.array([[3,5,4,5],[45,4,5,5]])\n",
        "print(y)"
      ],
      "metadata": {
        "colab": {
          "base_uri": "https://localhost:8080/"
        },
        "id": "XcaGVkq6de3Y",
        "outputId": "7b414562-ca78-4a28-e577-a6187a7cf29e"
      },
      "execution_count": 3,
      "outputs": [
        {
          "output_type": "stream",
          "name": "stdout",
          "text": [
            "[[ 3  5  4  5]\n",
            " [45  4  5  5]]\n"
          ]
        }
      ]
    },
    {
      "cell_type": "code",
      "source": [
        "a = np.append(x,[2,4,3])\n",
        "print(a)"
      ],
      "metadata": {
        "colab": {
          "base_uri": "https://localhost:8080/"
        },
        "id": "ydJ3WkaBdfGD",
        "outputId": "c8adfd08-d1b3-4d48-b076-d0eebeb51e10"
      },
      "execution_count": 6,
      "outputs": [
        {
          "output_type": "stream",
          "name": "stdout",
          "text": [
            "[ 1  2  3  4 45  2  2  4  3]\n"
          ]
        }
      ]
    },
    {
      "cell_type": "code",
      "source": [
        "print (\"before Deleting: \",a)\n",
        "newarray = np.delete(a,2)\n",
        "print(newarray)"
      ],
      "metadata": {
        "colab": {
          "base_uri": "https://localhost:8080/"
        },
        "id": "_QN3esPIdfKF",
        "outputId": "fea8f66a-c5a1-4b20-8cab-f971332a1c4a"
      },
      "execution_count": 8,
      "outputs": [
        {
          "output_type": "stream",
          "name": "stdout",
          "text": [
            "before Deleting:  [ 1  2  3  4 45  2  2  4  3]\n",
            "[ 1  2  4 45  2  2  4  3]\n"
          ]
        }
      ]
    },
    {
      "cell_type": "code",
      "source": [
        "b = np.array([6,4,1,3,5,9])\n",
        "b[b<4] = -1  \n",
        "print(b)"
      ],
      "metadata": {
        "colab": {
          "base_uri": "https://localhost:8080/"
        },
        "id": "LRTBdrhOdfOT",
        "outputId": "acbf67dc-db5e-46e4-9f98-b0b308814601"
      },
      "execution_count": 9,
      "outputs": [
        {
          "output_type": "stream",
          "name": "stdout",
          "text": [
            "[ 6  4 -1 -1  5  9]\n"
          ]
        }
      ]
    },
    {
      "cell_type": "code",
      "source": [
        "b= np.array([123,4445])\n",
        "print(b)"
      ],
      "metadata": {
        "colab": {
          "base_uri": "https://localhost:8080/"
        },
        "id": "4mX3Kij1dfRf",
        "outputId": "5bbfa1b5-ed0d-4a2b-e370-ddc39452ff4a"
      },
      "execution_count": 10,
      "outputs": [
        {
          "output_type": "stream",
          "name": "stdout",
          "text": [
            "[ 123 4445]\n"
          ]
        }
      ]
    },
    {
      "cell_type": "code",
      "source": [
        "a= np.array([0,20,30,40,50,69,70,89])\n",
        "b= np.arange(8)\n",
        "print(\"The elements in a are\",a)\n",
        "print(\"The elements in b are\",b)\n",
        "print(\"Result after Addition\",a+b)\n",
        "print(\"Result after substraction\",a-b)\n",
        "print(\"Result after multiplication\",a*b)\n",
        "print(\"Result after increasing the number to the power of 4\",b**4) \n",
        "# Scalar multiplication(power)\n",
        "print(\"Result after applying sin and multiplying with 10\",10*np.sin(a))\n",
        "a[0] +=10\n",
        "b[0] +=10\n",
        "print(\"Result after adding first element with 10\",a)\n",
        "print(\"Result after division\",a/b)"
      ],
      "metadata": {
        "colab": {
          "base_uri": "https://localhost:8080/"
        },
        "id": "YUorYb1BdfVT",
        "outputId": "dc7b23cd-721d-48f0-a5fa-e301c6e23d4d"
      },
      "execution_count": 31,
      "outputs": [
        {
          "output_type": "stream",
          "name": "stdout",
          "text": [
            "The elements in a are [ 0 20 30 40 50 69 70 89]\n",
            "The elements in b are [0 1 2 3 4 5 6 7]\n",
            "Result after Addition [ 0 21 32 43 54 74 76 96]\n",
            "Result after substraction [ 0 19 28 37 46 64 64 82]\n",
            "Result after multiplication [  0  20  60 120 200 345 420 623]\n",
            "Result after increasing the number to the power of 4 [   0    1   16   81  256  625 1296 2401]\n",
            "Result after applying sin and multiplying with 10 [ 0.          9.12945251 -9.88031624  7.4511316  -2.62374854 -1.14784814\n",
            "  7.73890682  8.60069406]\n",
            "Result after adding first element with 10 [10 20 30 40 50 69 70 89]\n",
            "Result after division [ 1.         20.         15.         13.33333333 12.5        13.8\n",
            " 11.66666667 12.71428571]\n"
          ]
        }
      ]
    },
    {
      "cell_type": "code",
      "source": [
        "print(np.dot(a,b))"
      ],
      "metadata": {
        "colab": {
          "base_uri": "https://localhost:8080/"
        },
        "id": "xJ41dXBKdfYj",
        "outputId": "21af61ac-d94e-4ded-efe4-3d1208df87aa"
      },
      "execution_count": 32,
      "outputs": [
        {
          "output_type": "stream",
          "name": "stdout",
          "text": [
            "1888\n"
          ]
        }
      ]
    },
    {
      "cell_type": "code",
      "source": [
        "a =np.arange(10)**2\n",
        "print(a)"
      ],
      "metadata": {
        "colab": {
          "base_uri": "https://localhost:8080/"
        },
        "id": "TVGkeTi0dfcA",
        "outputId": "81eb609f-9f3a-4e64-8fc3-00574238a31b"
      },
      "execution_count": 35,
      "outputs": [
        {
          "output_type": "stream",
          "name": "stdout",
          "text": [
            "[ 0  1  4  9 16 25 36 49 64 81]\n"
          ]
        }
      ]
    },
    {
      "cell_type": "code",
      "source": [
        "# slicing and iterating of Numpy Arryas\n",
        "\n",
        "print(\"The output of a[2] is\", a[2])\n",
        "print(\"The output of a[2] is\", a[2:5])\n",
        "print(\"The output of a[2] is\", a[:2])\n",
        "print(\"The output of a[2] is\", a[-1])\n",
        "print(\"The output of a[2] is\", a[-5:-2])\n"
      ],
      "metadata": {
        "colab": {
          "base_uri": "https://localhost:8080/"
        },
        "id": "NXwEe9ycdffr",
        "outputId": "f939b943-b8e9-4e74-81b4-7d76745c3741"
      },
      "execution_count": 43,
      "outputs": [
        {
          "output_type": "stream",
          "name": "stdout",
          "text": [
            "The output of a[2] is 4\n",
            "The output of a[2] is [ 4  9 16]\n",
            "The output of a[2] is [0 1]\n",
            "The output of a[2] is 81\n",
            "The output of a[2] is [25 36 49]\n"
          ]
        }
      ]
    },
    {
      "cell_type": "code",
      "source": [
        "a=np.arange(12).reshape(4,3)**2 \n",
        "print(\"Let's consider an array\\n\",a)\n",
        "print(\"\\n\")\n",
        "for i in a:\n",
        "        print(i*2)"
      ],
      "metadata": {
        "colab": {
          "base_uri": "https://localhost:8080/"
        },
        "id": "HFt8iCyPdfjo",
        "outputId": "19506936-7dce-4e3e-edb2-2f527506d30c"
      },
      "execution_count": 47,
      "outputs": [
        {
          "output_type": "stream",
          "name": "stdout",
          "text": [
            "Let's consider an array\n",
            " [[  0   1   4]\n",
            " [  9  16  25]\n",
            " [ 36  49  64]\n",
            " [ 81 100 121]]\n",
            "\n",
            "\n",
            "[0 2 8]\n",
            "[18 32 50]\n",
            "[ 72  98 128]\n",
            "[162 200 242]\n"
          ]
        }
      ]
    },
    {
      "cell_type": "code",
      "source": [
        "a=np.floor(10*np.random.random((3,4))) # Create a rondom 3*4 matrix.\n",
        "print(\"Let's consider a 1-D array\\n\",a)\n",
        "print(\"After reshaping to 2 by 6 matrix\\n\",a.reshape(2,6))\n",
        "print(\"To Flatten the array\\n\",a.ravel())\n",
        "print(\"To transpose the array\\n\",a.T)"
      ],
      "metadata": {
        "colab": {
          "base_uri": "https://localhost:8080/"
        },
        "id": "9IKxb0HRdfoe",
        "outputId": "21af23ae-606d-4f14-de71-1ebebba2668c"
      },
      "execution_count": 48,
      "outputs": [
        {
          "output_type": "stream",
          "name": "stdout",
          "text": [
            "Let's consider a 1-D array\n",
            " [[5. 1. 7. 4.]\n",
            " [2. 2. 5. 1.]\n",
            " [8. 5. 5. 4.]]\n",
            "After reshaping to 2 by 6 matrix\n",
            " [[5. 1. 7. 4. 2. 2.]\n",
            " [5. 1. 8. 5. 5. 4.]]\n",
            "To Flatten the array\n",
            " [5. 1. 7. 4. 2. 2. 5. 1. 8. 5. 5. 4.]\n",
            "To transpose the array\n",
            " [[5. 2. 8.]\n",
            " [1. 2. 5.]\n",
            " [7. 5. 5.]\n",
            " [4. 1. 4.]]\n"
          ]
        }
      ]
    },
    {
      "cell_type": "code",
      "source": [],
      "metadata": {
        "id": "yPPvmH7qdfsf"
      },
      "execution_count": null,
      "outputs": []
    },
    {
      "cell_type": "code",
      "source": [],
      "metadata": {
        "id": "E5AW2gk6dfwb"
      },
      "execution_count": null,
      "outputs": []
    },
    {
      "cell_type": "code",
      "source": [],
      "metadata": {
        "id": "HR83gYcZdf0D"
      },
      "execution_count": null,
      "outputs": []
    },
    {
      "cell_type": "code",
      "source": [],
      "metadata": {
        "id": "roMCEG2Idf3w"
      },
      "execution_count": null,
      "outputs": []
    }
  ]
}